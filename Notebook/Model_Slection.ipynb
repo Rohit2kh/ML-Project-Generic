{
 "cells": [
  {
   "cell_type": "code",
   "execution_count": 9,
   "metadata": {},
   "outputs": [],
   "source": [
    "import numpy as np\n",
    "import pandas as pd\n",
    "import seaborn as sns\n",
    "import matplotlib.pyplot as plt\n",
    "from catboost import CatBoostRegressor\n",
    "from sklearn.metrics import mean_absolute_error,r2_score, mean_squared_error\n",
    "from sklearn.neighbors import KNeighborsRegressor\n",
    "from sklearn.tree import DecisionTreeRegressor\n",
    "from sklearn.ensemble import RandomForestRegressor,AdaBoostRegressor\n",
    "from sklearn.svm import SVR\n",
    "from sklearn.linear_model import LinearRegression,Ridge,Lasso\n",
    "from sklearn.model_selection import RandomizedSearchCV\n",
    "from xgboost import XGBRegressor\n",
    "import warnings"
   ]
  },
  {
   "cell_type": "code",
   "execution_count": 2,
   "metadata": {},
   "outputs": [
    {
     "data": {
      "text/html": [
       "<div>\n",
       "<style scoped>\n",
       "    .dataframe tbody tr th:only-of-type {\n",
       "        vertical-align: middle;\n",
       "    }\n",
       "\n",
       "    .dataframe tbody tr th {\n",
       "        vertical-align: top;\n",
       "    }\n",
       "\n",
       "    .dataframe thead th {\n",
       "        text-align: right;\n",
       "    }\n",
       "</style>\n",
       "<table border=\"1\" class=\"dataframe\">\n",
       "  <thead>\n",
       "    <tr style=\"text-align: right;\">\n",
       "      <th></th>\n",
       "      <th>gender</th>\n",
       "      <th>race_ethnicity</th>\n",
       "      <th>parental_level_of_education</th>\n",
       "      <th>lunch</th>\n",
       "      <th>test_preparation_course</th>\n",
       "      <th>math_score</th>\n",
       "      <th>reading_score</th>\n",
       "      <th>writing_score</th>\n",
       "    </tr>\n",
       "  </thead>\n",
       "  <tbody>\n",
       "    <tr>\n",
       "      <th>0</th>\n",
       "      <td>female</td>\n",
       "      <td>group B</td>\n",
       "      <td>bachelor's degree</td>\n",
       "      <td>standard</td>\n",
       "      <td>none</td>\n",
       "      <td>72</td>\n",
       "      <td>72</td>\n",
       "      <td>74</td>\n",
       "    </tr>\n",
       "    <tr>\n",
       "      <th>1</th>\n",
       "      <td>female</td>\n",
       "      <td>group C</td>\n",
       "      <td>some college</td>\n",
       "      <td>standard</td>\n",
       "      <td>completed</td>\n",
       "      <td>69</td>\n",
       "      <td>90</td>\n",
       "      <td>88</td>\n",
       "    </tr>\n",
       "    <tr>\n",
       "      <th>2</th>\n",
       "      <td>female</td>\n",
       "      <td>group B</td>\n",
       "      <td>master's degree</td>\n",
       "      <td>standard</td>\n",
       "      <td>none</td>\n",
       "      <td>90</td>\n",
       "      <td>95</td>\n",
       "      <td>93</td>\n",
       "    </tr>\n",
       "    <tr>\n",
       "      <th>3</th>\n",
       "      <td>male</td>\n",
       "      <td>group A</td>\n",
       "      <td>associate's degree</td>\n",
       "      <td>free/reduced</td>\n",
       "      <td>none</td>\n",
       "      <td>47</td>\n",
       "      <td>57</td>\n",
       "      <td>44</td>\n",
       "    </tr>\n",
       "    <tr>\n",
       "      <th>4</th>\n",
       "      <td>male</td>\n",
       "      <td>group C</td>\n",
       "      <td>some college</td>\n",
       "      <td>standard</td>\n",
       "      <td>none</td>\n",
       "      <td>76</td>\n",
       "      <td>78</td>\n",
       "      <td>75</td>\n",
       "    </tr>\n",
       "  </tbody>\n",
       "</table>\n",
       "</div>"
      ],
      "text/plain": [
       "   gender race_ethnicity parental_level_of_education         lunch  \\\n",
       "0  female        group B           bachelor's degree      standard   \n",
       "1  female        group C                some college      standard   \n",
       "2  female        group B             master's degree      standard   \n",
       "3    male        group A          associate's degree  free/reduced   \n",
       "4    male        group C                some college      standard   \n",
       "\n",
       "  test_preparation_course  math_score  reading_score  writing_score  \n",
       "0                    none          72             72             74  \n",
       "1               completed          69             90             88  \n",
       "2                    none          90             95             93  \n",
       "3                    none          47             57             44  \n",
       "4                    none          76             78             75  "
      ]
     },
     "execution_count": 2,
     "metadata": {},
     "output_type": "execute_result"
    }
   ],
   "source": [
    "df = pd.read_csv('data/stud.csv')\n",
    "df.head()"
   ]
  },
  {
   "cell_type": "code",
   "execution_count": 3,
   "metadata": {},
   "outputs": [],
   "source": [
    "X = df.drop(columns=['math_score'],axis=1)"
   ]
  },
  {
   "cell_type": "code",
   "execution_count": 4,
   "metadata": {},
   "outputs": [],
   "source": [
    "y = df['math_score']"
   ]
  },
  {
   "cell_type": "code",
   "execution_count": 5,
   "metadata": {},
   "outputs": [],
   "source": [
    "num_feature = X.select_dtypes(exclude='object').columns\n",
    "cat_feature = X.select_dtypes(include='object').columns\n",
    "\n",
    "from sklearn.preprocessing import OneHotEncoder, StandardScaler\n",
    "from sklearn.compose import ColumnTransformer\n",
    "\n",
    "numeric_transformer = StandardScaler()\n",
    "oh_transformer = OneHotEncoder()\n",
    "\n",
    "perprocessor = ColumnTransformer(\n",
    "    [\n",
    "        (\"OneHotEncoder\",oh_transformer,cat_feature),\n",
    "        (\"StandardScaler\",numeric_transformer,num_feature),\n",
    "    ]\n",
    ")\n"
   ]
  },
  {
   "cell_type": "code",
   "execution_count": 6,
   "metadata": {},
   "outputs": [],
   "source": [
    "X = perprocessor.fit_transform(X)"
   ]
  },
  {
   "cell_type": "code",
   "execution_count": 7,
   "metadata": {},
   "outputs": [
    {
     "data": {
      "text/plain": [
       "(1000, 19)"
      ]
     },
     "execution_count": 7,
     "metadata": {},
     "output_type": "execute_result"
    }
   ],
   "source": [
    "X.shape"
   ]
  },
  {
   "cell_type": "code",
   "execution_count": 8,
   "metadata": {},
   "outputs": [
    {
     "data": {
      "text/plain": [
       "((800, 19), (200, 19))"
      ]
     },
     "execution_count": 8,
     "metadata": {},
     "output_type": "execute_result"
    }
   ],
   "source": [
    "from sklearn.model_selection import train_test_split\n",
    "X_train, X_test, y_train, y_test = train_test_split(X,y, test_size=0.2,random_state=42)\n",
    "X_train.shape, X_test.shape"
   ]
  },
  {
   "cell_type": "code",
   "execution_count": 17,
   "metadata": {},
   "outputs": [],
   "source": [
    "def evaluate(true,predicted):\n",
    "    mae = mean_absolute_error(true,predicted)\n",
    "    mse = mean_squared_error(true,predicted)\n",
    "    rmse = np.sqrt(mse)\n",
    "    r2_sco = r2_score(true,predicted)\n",
    "    return mae,mse,rmse,r2_sco"
   ]
  },
  {
   "cell_type": "code",
   "execution_count": 21,
   "metadata": {},
   "outputs": [
    {
     "name": "stdout",
     "output_type": "stream",
     "text": [
      "1\n",
      "Linear Regression\n",
      "Model performance training set\n",
      "-Mean Absolute Error:- 4.2667\n",
      "-Mean square Error:- 28.3349\n",
      "-Root Mean square Error:- 5.3231\n",
      "-r2 Score:- 0.8743\n",
      "---------------------------------------\n",
      "Model performance test set\n",
      "-Mean Absolute Error:- 4.2148\n",
      "-Mean square Error:- 29.0952\n",
      "-Root Mean square Error:- 5.3940\n",
      "-r2 Score:- 0.8804\n",
      "==============================\n",
      "\n",
      "\n",
      "2\n",
      "Lasso\n",
      "Model performance training set\n",
      "-Mean Absolute Error:- 5.2063\n",
      "-Mean square Error:- 43.4784\n",
      "-Root Mean square Error:- 6.5938\n",
      "-r2 Score:- 0.8071\n",
      "---------------------------------------\n",
      "Model performance test set\n",
      "-Mean Absolute Error:- 5.1579\n",
      "-Mean square Error:- 42.5064\n",
      "-Root Mean square Error:- 6.5197\n",
      "-r2 Score:- 0.8253\n",
      "==============================\n",
      "\n",
      "\n",
      "3\n",
      "Ridge\n",
      "Model performance training set\n",
      "-Mean Absolute Error:- 4.2650\n",
      "-Mean square Error:- 28.3378\n",
      "-Root Mean square Error:- 5.3233\n",
      "-r2 Score:- 0.8743\n",
      "---------------------------------------\n",
      "Model performance test set\n",
      "-Mean Absolute Error:- 4.2111\n",
      "-Mean square Error:- 29.0563\n",
      "-Root Mean square Error:- 5.3904\n",
      "-r2 Score:- 0.8806\n",
      "==============================\n",
      "\n",
      "\n",
      "4\n",
      "K-Neighbour Regressor\n",
      "Model performance training set\n",
      "-Mean Absolute Error:- 4.5180\n",
      "-Mean square Error:- 32.5953\n",
      "-Root Mean square Error:- 5.7092\n",
      "-r2 Score:- 0.8554\n",
      "---------------------------------------\n",
      "Model performance test set\n",
      "-Mean Absolute Error:- 5.6160\n",
      "-Mean square Error:- 52.5860\n",
      "-Root Mean square Error:- 7.2516\n",
      "-r2 Score:- 0.7839\n",
      "==============================\n",
      "\n",
      "\n",
      "5\n",
      "Random Forest Regressor\n",
      "Model performance training set\n",
      "-Mean Absolute Error:- 1.8293\n",
      "-Mean square Error:- 5.2608\n",
      "-Root Mean square Error:- 2.2937\n",
      "-r2 Score:- 0.9767\n",
      "---------------------------------------\n",
      "Model performance test set\n",
      "-Mean Absolute Error:- 4.7089\n",
      "-Mean square Error:- 37.0370\n",
      "-Root Mean square Error:- 6.0858\n",
      "-r2 Score:- 0.8478\n",
      "==============================\n",
      "\n",
      "\n",
      "6\n",
      "XGBoost Regressor\n",
      "Model performance training set\n",
      "-Mean Absolute Error:- 0.6875\n",
      "-Mean square Error:- 1.0146\n",
      "-Root Mean square Error:- 1.0073\n",
      "-r2 Score:- 0.9955\n",
      "---------------------------------------\n",
      "Model performance test set\n",
      "-Mean Absolute Error:- 5.0577\n",
      "-Mean square Error:- 41.9037\n",
      "-Root Mean square Error:- 6.4733\n",
      "-r2 Score:- 0.8278\n",
      "==============================\n",
      "\n",
      "\n",
      "7\n",
      "Catboosting Regressor\n",
      "Model performance training set\n",
      "-Mean Absolute Error:- 2.4054\n",
      "-Mean square Error:- 9.2578\n",
      "-Root Mean square Error:- 3.0427\n",
      "-r2 Score:- 0.9589\n",
      "---------------------------------------\n",
      "Model performance test set\n",
      "-Mean Absolute Error:- 4.6125\n",
      "-Mean square Error:- 36.1037\n",
      "-Root Mean square Error:- 6.0086\n",
      "-r2 Score:- 0.8516\n",
      "==============================\n",
      "\n",
      "\n",
      "8\n",
      "AdaBoost Regressor\n",
      "Model performance training set\n",
      "-Mean Absolute Error:- 4.7254\n",
      "-Mean square Error:- 33.1063\n",
      "-Root Mean square Error:- 5.7538\n",
      "-r2 Score:- 0.8532\n",
      "---------------------------------------\n",
      "Model performance test set\n",
      "-Mean Absolute Error:- 4.5210\n",
      "-Mean square Error:- 35.7496\n",
      "-Root Mean square Error:- 5.9791\n",
      "-r2 Score:- 0.8531\n",
      "==============================\n",
      "\n",
      "\n"
     ]
    }
   ],
   "source": [
    "models = {\n",
    "    \"Linear Regression\" : LinearRegression(),\n",
    "    \"Lasso\" : Lasso(),\n",
    "    \"Ridge\" : Ridge(),\n",
    "    \"K-Neighbour Regressor\" : KNeighborsRegressor(),\n",
    "    \"Random Forest Regressor\" : RandomForestRegressor(),\n",
    "    \"XGBoost Regressor\" : XGBRegressor(),\n",
    "    \"Catboosting Regressor\" : CatBoostRegressor(verbose=False),\n",
    "    \"AdaBoost Regressor\" : AdaBoostRegressor()\n",
    "}\n",
    "model_list =[]\n",
    "r2_list = []\n",
    "\n",
    "for i in range(len(list(models))):\n",
    "    print(i+1)\n",
    "    model = list(models.values())[i]\n",
    "    model.fit(X_train,y_train)\n",
    "\n",
    "\n",
    "    y_train_pred = model.predict(X_train)\n",
    "    y_test_pred = model.predict(X_test)\n",
    "\n",
    "    y_train_mae,y_train_mse,y_train_rmse,y_train_r2_score = evaluate(y_train,y_train_pred)\n",
    "    y_test_mae,y_test_mse,y_test_rmse,y_test_r2_score = evaluate(y_test,y_test_pred)\n",
    "\n",
    "\n",
    "    print(list(models.keys())[i])\n",
    "    model_list.append(list(models.keys())[i])\n",
    "\n",
    "    print(\"Model performance training set\")\n",
    "    print(\"-Mean Absolute Error:- {:.4f}\".format(y_train_mae))\n",
    "    print(\"-Mean square Error:- {:.4f}\".format(y_train_mse))\n",
    "    print(\"-Root Mean square Error:- {:.4f}\".format(y_train_rmse))\n",
    "    print(\"-r2 Score:- {:.4f}\".format(y_train_r2_score))\n",
    "\n",
    "    print(\"---------------------------------------\")\n",
    "\n",
    "    print(\"Model performance test set\")\n",
    "    print(\"-Mean Absolute Error:- {:.4f}\".format(y_test_mae))\n",
    "    print(\"-Mean square Error:- {:.4f}\".format(y_test_mse))\n",
    "    print(\"-Root Mean square Error:- {:.4f}\".format(y_test_rmse))\n",
    "    print(\"-r2 Score:- {:.4f}\".format(y_test_r2_score))\n",
    "\n",
    "    r2_list.append(y_test_r2_score)\n",
    "    print(\"=\"*30)\n",
    "    print(\"\\n\")\n"
   ]
  },
  {
   "cell_type": "code",
   "execution_count": 24,
   "metadata": {},
   "outputs": [
    {
     "data": {
      "text/html": [
       "<div>\n",
       "<style scoped>\n",
       "    .dataframe tbody tr th:only-of-type {\n",
       "        vertical-align: middle;\n",
       "    }\n",
       "\n",
       "    .dataframe tbody tr th {\n",
       "        vertical-align: top;\n",
       "    }\n",
       "\n",
       "    .dataframe thead th {\n",
       "        text-align: right;\n",
       "    }\n",
       "</style>\n",
       "<table border=\"1\" class=\"dataframe\">\n",
       "  <thead>\n",
       "    <tr style=\"text-align: right;\">\n",
       "      <th></th>\n",
       "      <th>Model name</th>\n",
       "      <th>R2 Score</th>\n",
       "    </tr>\n",
       "  </thead>\n",
       "  <tbody>\n",
       "    <tr>\n",
       "      <th>2</th>\n",
       "      <td>Ridge</td>\n",
       "      <td>0.880593</td>\n",
       "    </tr>\n",
       "    <tr>\n",
       "      <th>0</th>\n",
       "      <td>Linear Regression</td>\n",
       "      <td>0.880433</td>\n",
       "    </tr>\n",
       "    <tr>\n",
       "      <th>7</th>\n",
       "      <td>AdaBoost Regressor</td>\n",
       "      <td>0.853087</td>\n",
       "    </tr>\n",
       "    <tr>\n",
       "      <th>6</th>\n",
       "      <td>Catboosting Regressor</td>\n",
       "      <td>0.851632</td>\n",
       "    </tr>\n",
       "    <tr>\n",
       "      <th>4</th>\n",
       "      <td>Random Forest Regressor</td>\n",
       "      <td>0.847796</td>\n",
       "    </tr>\n",
       "    <tr>\n",
       "      <th>5</th>\n",
       "      <td>XGBoost Regressor</td>\n",
       "      <td>0.827797</td>\n",
       "    </tr>\n",
       "    <tr>\n",
       "      <th>1</th>\n",
       "      <td>Lasso</td>\n",
       "      <td>0.825320</td>\n",
       "    </tr>\n",
       "    <tr>\n",
       "      <th>3</th>\n",
       "      <td>K-Neighbour Regressor</td>\n",
       "      <td>0.783898</td>\n",
       "    </tr>\n",
       "  </tbody>\n",
       "</table>\n",
       "</div>"
      ],
      "text/plain": [
       "                Model name  R2 Score\n",
       "2                    Ridge  0.880593\n",
       "0        Linear Regression  0.880433\n",
       "7       AdaBoost Regressor  0.853087\n",
       "6    Catboosting Regressor  0.851632\n",
       "4  Random Forest Regressor  0.847796\n",
       "5        XGBoost Regressor  0.827797\n",
       "1                    Lasso  0.825320\n",
       "3    K-Neighbour Regressor  0.783898"
      ]
     },
     "execution_count": 24,
     "metadata": {},
     "output_type": "execute_result"
    }
   ],
   "source": [
    "df_eval = pd.DataFrame(list(zip(model_list,r2_list)),columns=['Model name',\"R2 Score\"]).sort_values(by = [\"R2 Score\"],ascending=False)\n",
    "df_eval\n"
   ]
  },
  {
   "cell_type": "code",
   "execution_count": 25,
   "metadata": {},
   "outputs": [
    {
     "name": "stdout",
     "output_type": "stream",
     "text": [
      " Accuracy of the model is 88.06\n"
     ]
    }
   ],
   "source": [
    "lin_model = Ridge(fit_intercept=True)\n",
    "lin_model = lin_model.fit(X_train, y_train)\n",
    "y_pred = lin_model.predict(X_test)\n",
    "score = r2_score(y_test, y_pred)*100\n",
    "print(\" Accuracy of the model is %.2f\" %score)"
   ]
  },
  {
   "cell_type": "code",
   "execution_count": 26,
   "metadata": {},
   "outputs": [
    {
     "data": {
      "text/plain": [
       "Text(0, 0.5, 'Predicted')"
      ]
     },
     "execution_count": 26,
     "metadata": {},
     "output_type": "execute_result"
    },
    {
     "data": {
      "image/png": "[encoded data removed]",
      "text/plain": [
       "<Figure size 640x480 with 1 Axes>"
      ]
     },
     "metadata": {},
     "output_type": "display_data"
    }
   ],
   "source": [
    "plt.scatter(y_test,y_pred)\n",
    "plt.xlabel('Actual')\n",
    "plt.ylabel('Predicted')"
   ]
  },
  {
   "cell_type": "code",
   "execution_count": 28,
   "metadata": {},
   "outputs": [
    {
     "data": {
      "text/plain": [
       "<Axes: xlabel='math_score'>"
      ]
     },
     "execution_count": 28,
     "metadata": {},
     "output_type": "execute_result"
    },
    {
     "data": {
      "image/png": "[encoded data removed]",
      "text/plain": [
       "<Figure size 640x480 with 1 Axes>"
      ]
     },
     "metadata": {},
     "output_type": "display_data"
    }
   ],
   "source": [
    "sns.regplot(x=y_test,y=y_pred,ci=None,color ='OLIVE')"
   ]
  },
  {
   "cell_type": "code",
   "execution_count": 34,
   "metadata": {},
   "outputs": [
    {
     "data": {
      "text/html": [
       "<div>\n",
       "<style scoped>\n",
       "    .dataframe tbody tr th:only-of-type {\n",
       "        vertical-align: middle;\n",
       "    }\n",
       "\n",
       "    .dataframe tbody tr th {\n",
       "        vertical-align: top;\n",
       "    }\n",
       "\n",
       "    .dataframe thead th {\n",
       "        text-align: right;\n",
       "    }\n",
       "</style>\n",
       "<table border=\"1\" class=\"dataframe\">\n",
       "  <thead>\n",
       "    <tr style=\"text-align: right;\">\n",
       "      <th></th>\n",
       "      <th>Actual Value</th>\n",
       "      <th>Predicted Value</th>\n",
       "      <th>Difference</th>\n",
       "    </tr>\n",
       "  </thead>\n",
       "  <tbody>\n",
       "    <tr>\n",
       "      <th>521</th>\n",
       "      <td>91</td>\n",
       "      <td>76.398705</td>\n",
       "      <td>14.601295</td>\n",
       "    </tr>\n",
       "    <tr>\n",
       "      <th>265</th>\n",
       "      <td>59</td>\n",
       "      <td>45.167633</td>\n",
       "      <td>13.832367</td>\n",
       "    </tr>\n",
       "    <tr>\n",
       "      <th>859</th>\n",
       "      <td>87</td>\n",
       "      <td>74.115900</td>\n",
       "      <td>12.884100</td>\n",
       "    </tr>\n",
       "    <tr>\n",
       "      <th>199</th>\n",
       "      <td>78</td>\n",
       "      <td>65.735421</td>\n",
       "      <td>12.264579</td>\n",
       "    </tr>\n",
       "    <tr>\n",
       "      <th>867</th>\n",
       "      <td>61</td>\n",
       "      <td>48.913551</td>\n",
       "      <td>12.086449</td>\n",
       "    </tr>\n",
       "    <tr>\n",
       "      <th>...</th>\n",
       "      <td>...</td>\n",
       "      <td>...</td>\n",
       "      <td>...</td>\n",
       "    </tr>\n",
       "    <tr>\n",
       "      <th>787</th>\n",
       "      <td>19</td>\n",
       "      <td>29.518226</td>\n",
       "      <td>-10.518226</td>\n",
       "    </tr>\n",
       "    <tr>\n",
       "      <th>589</th>\n",
       "      <td>48</td>\n",
       "      <td>59.297098</td>\n",
       "      <td>-11.297098</td>\n",
       "    </tr>\n",
       "    <tr>\n",
       "      <th>318</th>\n",
       "      <td>63</td>\n",
       "      <td>75.305107</td>\n",
       "      <td>-12.305107</td>\n",
       "    </tr>\n",
       "    <tr>\n",
       "      <th>371</th>\n",
       "      <td>45</td>\n",
       "      <td>57.456655</td>\n",
       "      <td>-12.456655</td>\n",
       "    </tr>\n",
       "    <tr>\n",
       "      <th>158</th>\n",
       "      <td>61</td>\n",
       "      <td>76.278622</td>\n",
       "      <td>-15.278622</td>\n",
       "    </tr>\n",
       "  </tbody>\n",
       "</table>\n",
       "<p>200 rows × 3 columns</p>\n",
       "</div>"
      ],
      "text/plain": [
       "     Actual Value  Predicted Value  Difference\n",
       "521            91        76.398705   14.601295\n",
       "265            59        45.167633   13.832367\n",
       "859            87        74.115900   12.884100\n",
       "199            78        65.735421   12.264579\n",
       "867            61        48.913551   12.086449\n",
       "..            ...              ...         ...\n",
       "787            19        29.518226  -10.518226\n",
       "589            48        59.297098  -11.297098\n",
       "318            63        75.305107  -12.305107\n",
       "371            45        57.456655  -12.456655\n",
       "158            61        76.278622  -15.278622\n",
       "\n",
       "[200 rows x 3 columns]"
      ]
     },
     "execution_count": 34,
     "metadata": {},
     "output_type": "execute_result"
    }
   ],
   "source": [
    "pred_df=pd.DataFrame({'Actual Value':y_test,'Predicted Value':y_pred,'Difference':y_test-y_pred})\n",
    "pred_df.sort_values(by=[\"Difference\"],ascending=False,inplace=True)\n",
    "pred_df"
   ]
  },
  {
   "cell_type": "code",
   "execution_count": null,
   "metadata": {},
   "outputs": [],
   "source": []
  }
 ],
 "metadata": {
  "kernelspec": {
   "display_name": "Python 3",
   "language": "python",
   "name": "python3"
  },
  "language_info": {
   "codemirror_mode": {
    "name": "ipython",
    "version": 3
   },
   "file_extension": ".py",
   "mimetype": "text/x-python",
   "name": "python",
   "nbconvert_exporter": "python",
   "pygments_lexer": "ipython3",
   "version": "3.11.5"
  }
 },
 "nbformat": 4,
 "nbformat_minor": 2
}
